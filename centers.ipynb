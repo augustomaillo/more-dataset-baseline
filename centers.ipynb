{
 "cells": [
  {
   "cell_type": "code",
   "execution_count": 3,
   "metadata": {},
   "outputs": [],
   "source": [
    "%load_ext autoreload\n",
    "%autoreload 2"
   ]
  },
  {
   "cell_type": "code",
   "execution_count": 4,
   "metadata": {},
   "outputs": [],
   "source": [
    "import torch\n",
    "from utils.dataset import Dataset\n",
    "from torch_utils.eval_metric_model import evaluate\n",
    "from torch_utils.eval_metric_model import process_generator\n",
    "from utils.test_generator import TestGenerator\n",
    "from torch_model.metric_learning_model import Resnet50MetricLearning\n",
    "\n",
    "device = torch.device('cuda' if torch.cuda.is_available() else 'cpu')\n",
    "more_path = \"../MoRe---ReID-Codes/MoRe.hdf5\"\n",
    "more = Dataset(more_path, to_bgr = True) # Images were used in BGR format\n",
    "\n",
    "_, idsa = more.content_array(partition='train', cam_name='camA')\n",
    "_, idsb = more.content_array(partition='train', cam_name='camB')\n",
    "\n",
    "total_images_train = len(idsa) + len(idsb)\n",
    "target_ident_num = more.ident_num(partition='train')"
   ]
  },
  {
   "cell_type": "code",
   "execution_count": 57,
   "metadata": {},
   "outputs": [
    {
     "name": "stdout",
     "output_type": "stream",
     "text": [
      "Processing cams images\n",
      "Keys not loaded: _IncompatibleKeys(missing_keys=['batch_norm.weight', 'batch_norm.bias', 'batch_norm.running_mean', 'batch_norm.running_var'], unexpected_keys=[])\n"
     ]
    },
    {
     "name": "stderr",
     "output_type": "stream",
     "text": [
      "100%|██████████| 39/39 [00:17<00:00,  2.25it/s]\n"
     ]
    }
   ],
   "source": [
    "print('Processing cams images')\n",
    "test_gen_camA = TestGenerator(more, partition='test', cam='camA', image_shape=(256,256))\n",
    "test_gen_camB = TestGenerator(more, partition='test', cam='camB', image_shape=(256,256))\n",
    "if device == 'cuda':\n",
    "    torch.cuda.empty_cache()\n",
    "    \n",
    "metric_learning_model_weights = 'weights/torch.quad_loss.120epochs.pt'\n",
    "\n",
    "model_metric = Resnet50MetricLearning(target_ident_num, inference=False).eval().to(device)\n",
    "incompatible_keys = model_metric.load_state_dict(torch.load(metric_learning_model_weights), strict=False, )\n",
    "print('Keys not loaded:', incompatible_keys)\n",
    "\n",
    "probe_features_no_center, ids_camA_no_center = process_generator(test_gen_camA, model_metric, batch_size=96, workers=1)\n"
   ]
  },
  {
   "cell_type": "code",
   "execution_count": 59,
   "metadata": {},
   "outputs": [
    {
     "data": {
      "text/html": [
       "<div>\n",
       "<style scoped>\n",
       "    .dataframe tbody tr th:only-of-type {\n",
       "        vertical-align: middle;\n",
       "    }\n",
       "\n",
       "    .dataframe tbody tr th {\n",
       "        vertical-align: top;\n",
       "    }\n",
       "\n",
       "    .dataframe thead th {\n",
       "        text-align: right;\n",
       "    }\n",
       "</style>\n",
       "<table border=\"1\" class=\"dataframe\">\n",
       "  <thead>\n",
       "    <tr style=\"text-align: right;\">\n",
       "      <th></th>\n",
       "      <th>ids</th>\n",
       "      <th>features</th>\n",
       "    </tr>\n",
       "  </thead>\n",
       "  <tbody>\n",
       "    <tr>\n",
       "      <th>0</th>\n",
       "      <td>5</td>\n",
       "      <td>[0.057985462, 0.05420101, 0.06639986, 0.012429...</td>\n",
       "    </tr>\n",
       "    <tr>\n",
       "      <th>1</th>\n",
       "      <td>7</td>\n",
       "      <td>[0.03318697, 0.21929269, 0.011075665, 0.043289...</td>\n",
       "    </tr>\n",
       "    <tr>\n",
       "      <th>2</th>\n",
       "      <td>8</td>\n",
       "      <td>[0.17486162, 0.12576376, 0.058039505, 0.027559...</td>\n",
       "    </tr>\n",
       "    <tr>\n",
       "      <th>3</th>\n",
       "      <td>10</td>\n",
       "      <td>[0.10645791, 0.07596429, 0.16330585, 0.0799751...</td>\n",
       "    </tr>\n",
       "    <tr>\n",
       "      <th>4</th>\n",
       "      <td>11</td>\n",
       "      <td>[0.09706628, 0.13950542, 0.0048605925, 0.01397...</td>\n",
       "    </tr>\n",
       "    <tr>\n",
       "      <th>...</th>\n",
       "      <td>...</td>\n",
       "      <td>...</td>\n",
       "    </tr>\n",
       "    <tr>\n",
       "      <th>1909</th>\n",
       "      <td>3820</td>\n",
       "      <td>[0.0, 0.0, 0.04468213, 0.04946493, 0.040892195...</td>\n",
       "    </tr>\n",
       "    <tr>\n",
       "      <th>1910</th>\n",
       "      <td>3822</td>\n",
       "      <td>[4.5944704e-05, 0.11090809, 0.029595667, 0.126...</td>\n",
       "    </tr>\n",
       "    <tr>\n",
       "      <th>1911</th>\n",
       "      <td>3823</td>\n",
       "      <td>[0.0, 0.0049331924, 0.16197152, 0.10919467, 0....</td>\n",
       "    </tr>\n",
       "    <tr>\n",
       "      <th>1912</th>\n",
       "      <td>3824</td>\n",
       "      <td>[0.009148002, 0.019807622, 0.048091333, 0.0162...</td>\n",
       "    </tr>\n",
       "    <tr>\n",
       "      <th>1913</th>\n",
       "      <td>3827</td>\n",
       "      <td>[0.005391492, 0.0, 0.14490949, 0.21422529, 0.0...</td>\n",
       "    </tr>\n",
       "  </tbody>\n",
       "</table>\n",
       "<p>1914 rows × 2 columns</p>\n",
       "</div>"
      ],
      "text/plain": [
       "       ids                                           features\n",
       "0        5  [0.057985462, 0.05420101, 0.06639986, 0.012429...\n",
       "1        7  [0.03318697, 0.21929269, 0.011075665, 0.043289...\n",
       "2        8  [0.17486162, 0.12576376, 0.058039505, 0.027559...\n",
       "3       10  [0.10645791, 0.07596429, 0.16330585, 0.0799751...\n",
       "4       11  [0.09706628, 0.13950542, 0.0048605925, 0.01397...\n",
       "...    ...                                                ...\n",
       "1909  3820  [0.0, 0.0, 0.04468213, 0.04946493, 0.040892195...\n",
       "1910  3822  [4.5944704e-05, 0.11090809, 0.029595667, 0.126...\n",
       "1911  3823  [0.0, 0.0049331924, 0.16197152, 0.10919467, 0....\n",
       "1912  3824  [0.009148002, 0.019807622, 0.048091333, 0.0162...\n",
       "1913  3827  [0.005391492, 0.0, 0.14490949, 0.21422529, 0.0...\n",
       "\n",
       "[1914 rows x 2 columns]"
      ]
     },
     "execution_count": 59,
     "metadata": {},
     "output_type": "execute_result"
    }
   ],
   "source": [
    "import pandas as pd\n",
    "import numpy as np\n",
    "\n",
    "values, counts = np.unique(ids_camA_no_center, return_counts=True)\n",
    "\n",
    "indexes = np.argsort(counts)[::-1]\n",
    "selected_ids = values[indexes]\n",
    "selected_features = probe_features_no_center[np.isin(ids_camA_no_center, selected_ids)]\n",
    "selected_targets = ids_camA_no_center[np.isin(ids_camA_no_center, selected_ids)]\n",
    "df = pd.DataFrame()\n",
    "df.index = np.arange(len(selected_features))\n",
    "df.loc[:, 'features'] = [*selected_features]\n",
    "df.loc[:, 'ids'] = selected_targets\n",
    "\n",
    "\n",
    "gdf_no_center = df.groupby('ids').features.apply(np.mean).reset_index()\n",
    "gdf_no_center"
   ]
  },
  {
   "cell_type": "code",
   "execution_count": 61,
   "metadata": {},
   "outputs": [
    {
     "data": {
      "text/plain": [
       "0.4771363412410603"
      ]
     },
     "execution_count": 61,
     "metadata": {},
     "output_type": "execute_result"
    }
   ],
   "source": [
    "from sklearn.metrics.pairwise import cosine_similarity\n",
    "\n",
    "sims = cosine_similarity(gdf_no_center.features.tolist(), gdf_no_center.features.tolist())\n",
    "num_distances = (len(gdf_no_center)**2 - len(gdf_no_center) )/ 2\n",
    "np.tril(sims, k=-1).sum()/ num_distances"
   ]
  },
  {
   "cell_type": "code",
   "execution_count": 66,
   "metadata": {},
   "outputs": [
    {
     "data": {
      "text/plain": [
       "0.11674701320477887"
      ]
     },
     "execution_count": 66,
     "metadata": {},
     "output_type": "execute_result"
    }
   ],
   "source": [
    "1 - 42.14/47.71"
   ]
  },
  {
   "cell_type": "code",
   "execution_count": 31,
   "metadata": {},
   "outputs": [
    {
     "name": "stderr",
     "output_type": "stream",
     "text": [
      "c:\\Users\\Augusto\\anaconda3\\envs\\new-more\\lib\\site-packages\\umap\\umap_.py:1943: UserWarning: n_jobs value -1 overridden to 1 by setting random_state. Use no seed for parallelism.\n",
      "  warn(f\"n_jobs value {self.n_jobs} overridden to 1 by setting random_state. Use no seed for parallelism.\")\n",
      "c:\\Users\\Augusto\\anaconda3\\envs\\new-more\\lib\\site-packages\\umap\\umap_.py:2433: UserWarning: n_neighbors is larger than the dataset size; truncating to X.shape[0] - 1\n",
      "  warn(\n"
     ]
    },
    {
     "data": {
      "text/html": [
       "<style>#sk-container-id-2 {color: black;}#sk-container-id-2 pre{padding: 0;}#sk-container-id-2 div.sk-toggleable {background-color: white;}#sk-container-id-2 label.sk-toggleable__label {cursor: pointer;display: block;width: 100%;margin-bottom: 0;padding: 0.3em;box-sizing: border-box;text-align: center;}#sk-container-id-2 label.sk-toggleable__label-arrow:before {content: \"▸\";float: left;margin-right: 0.25em;color: #696969;}#sk-container-id-2 label.sk-toggleable__label-arrow:hover:before {color: black;}#sk-container-id-2 div.sk-estimator:hover label.sk-toggleable__label-arrow:before {color: black;}#sk-container-id-2 div.sk-toggleable__content {max-height: 0;max-width: 0;overflow: hidden;text-align: left;background-color: #f0f8ff;}#sk-container-id-2 div.sk-toggleable__content pre {margin: 0.2em;color: black;border-radius: 0.25em;background-color: #f0f8ff;}#sk-container-id-2 input.sk-toggleable__control:checked~div.sk-toggleable__content {max-height: 200px;max-width: 100%;overflow: auto;}#sk-container-id-2 input.sk-toggleable__control:checked~label.sk-toggleable__label-arrow:before {content: \"▾\";}#sk-container-id-2 div.sk-estimator input.sk-toggleable__control:checked~label.sk-toggleable__label {background-color: #d4ebff;}#sk-container-id-2 div.sk-label input.sk-toggleable__control:checked~label.sk-toggleable__label {background-color: #d4ebff;}#sk-container-id-2 input.sk-hidden--visually {border: 0;clip: rect(1px 1px 1px 1px);clip: rect(1px, 1px, 1px, 1px);height: 1px;margin: -1px;overflow: hidden;padding: 0;position: absolute;width: 1px;}#sk-container-id-2 div.sk-estimator {font-family: monospace;background-color: #f0f8ff;border: 1px dotted black;border-radius: 0.25em;box-sizing: border-box;margin-bottom: 0.5em;}#sk-container-id-2 div.sk-estimator:hover {background-color: #d4ebff;}#sk-container-id-2 div.sk-parallel-item::after {content: \"\";width: 100%;border-bottom: 1px solid gray;flex-grow: 1;}#sk-container-id-2 div.sk-label:hover label.sk-toggleable__label {background-color: #d4ebff;}#sk-container-id-2 div.sk-serial::before {content: \"\";position: absolute;border-left: 1px solid gray;box-sizing: border-box;top: 0;bottom: 0;left: 50%;z-index: 0;}#sk-container-id-2 div.sk-serial {display: flex;flex-direction: column;align-items: center;background-color: white;padding-right: 0.2em;padding-left: 0.2em;position: relative;}#sk-container-id-2 div.sk-item {position: relative;z-index: 1;}#sk-container-id-2 div.sk-parallel {display: flex;align-items: stretch;justify-content: center;background-color: white;position: relative;}#sk-container-id-2 div.sk-item::before, #sk-container-id-2 div.sk-parallel-item::before {content: \"\";position: absolute;border-left: 1px solid gray;box-sizing: border-box;top: 0;bottom: 0;left: 50%;z-index: -1;}#sk-container-id-2 div.sk-parallel-item {display: flex;flex-direction: column;z-index: 1;position: relative;background-color: white;}#sk-container-id-2 div.sk-parallel-item:first-child::after {align-self: flex-end;width: 50%;}#sk-container-id-2 div.sk-parallel-item:last-child::after {align-self: flex-start;width: 50%;}#sk-container-id-2 div.sk-parallel-item:only-child::after {width: 0;}#sk-container-id-2 div.sk-dashed-wrapped {border: 1px dashed gray;margin: 0 0.4em 0.5em 0.4em;box-sizing: border-box;padding-bottom: 0.4em;background-color: white;}#sk-container-id-2 div.sk-label label {font-family: monospace;font-weight: bold;display: inline-block;line-height: 1.2em;}#sk-container-id-2 div.sk-label-container {text-align: center;}#sk-container-id-2 div.sk-container {/* jupyter's `normalize.less` sets `[hidden] { display: none; }` but bootstrap.min.css set `[hidden] { display: none !important; }` so we also need the `!important` here to be able to override the default hidden behavior on the sphinx rendered scikit-learn.org. See: https://github.com/scikit-learn/scikit-learn/issues/21755 */display: inline-block !important;position: relative;}#sk-container-id-2 div.sk-text-repr-fallback {display: none;}</style><div id=\"sk-container-id-2\" class=\"sk-top-container\"><div class=\"sk-text-repr-fallback\"><pre>UMAP(random_state=42, tqdm_kwds={&#x27;bar_format&#x27;: &#x27;{desc}: {percentage:3.0f}%| {bar} {n_fmt}/{total_fmt} [{elapsed}]&#x27;, &#x27;desc&#x27;: &#x27;Epochs completed&#x27;, &#x27;disable&#x27;: True})</pre><b>In a Jupyter environment, please rerun this cell to show the HTML representation or trust the notebook. <br />On GitHub, the HTML representation is unable to render, please try loading this page with nbviewer.org.</b></div><div class=\"sk-container\" hidden><div class=\"sk-item\"><div class=\"sk-estimator sk-toggleable\"><input class=\"sk-toggleable__control sk-hidden--visually\" id=\"sk-estimator-id-2\" type=\"checkbox\" checked><label for=\"sk-estimator-id-2\" class=\"sk-toggleable__label sk-toggleable__label-arrow\">UMAP</label><div class=\"sk-toggleable__content\"><pre>UMAP(random_state=42, tqdm_kwds={&#x27;bar_format&#x27;: &#x27;{desc}: {percentage:3.0f}%| {bar} {n_fmt}/{total_fmt} [{elapsed}]&#x27;, &#x27;desc&#x27;: &#x27;Epochs completed&#x27;, &#x27;disable&#x27;: True})</pre></div></div></div></div></div>"
      ],
      "text/plain": [
       "UMAP(random_state=42, tqdm_kwds={'bar_format': '{desc}: {percentage:3.0f}%| {bar} {n_fmt}/{total_fmt} [{elapsed}]', 'desc': 'Epochs completed', 'disable': True})"
      ]
     },
     "execution_count": 31,
     "metadata": {},
     "output_type": "execute_result"
    }
   ],
   "source": [
    "import sklearn.datasets\n",
    "# import pandas as pd\n",
    "import numpy as np\n",
    "import umap\n",
    "\n",
    "reducer = umap.UMAP(random_state=42)\n",
    "\n",
    "reducer.fit(gdf_no_center.features.tolist())"
   ]
  },
  {
   "cell_type": "code",
   "execution_count": 32,
   "metadata": {},
   "outputs": [
    {
     "data": {
      "text/plain": [
       "(10, 2)"
      ]
     },
     "execution_count": 32,
     "metadata": {},
     "output_type": "execute_result"
    }
   ],
   "source": [
    "embedding = reducer.transform(gdf.features.tolist())\n",
    "# Verify that the result of calling transform is\n",
    "# idenitical to accessing the embedding_ attribute\n",
    "assert(np.all(embedding == reducer.embedding_))\n",
    "embedding.shape"
   ]
  },
  {
   "cell_type": "code",
   "execution_count": 34,
   "metadata": {},
   "outputs": [],
   "source": [
    "colors = np.random.rand(len(gdf), 3)"
   ]
  },
  {
   "cell_type": "code",
   "execution_count": 35,
   "metadata": {},
   "outputs": [
    {
     "data": {
      "image/png": "[encoded data removed]",
      "text/plain": [
       "<Figure size 1000x800 with 1 Axes>"
      ]
     },
     "metadata": {},
     "output_type": "display_data"
    }
   ],
   "source": [
    "%matplotlib inline\n",
    "from matplotlib import pyplot as plt\n",
    "\n",
    "plt.figure(figsize=(10,8))\n",
    "plt.scatter(embedding[:, 0], embedding[:, 1], c=colors, s=50)\n",
    "# plt.gca().set_aspect('equal', 'datalim')\n",
    "# plt.colorbar(boundaries=np.arange(11)-0.5).set_ticks(np.arange(10))\n",
    "plt.title('UMAP projection of the Digits dataset', fontsize=12)\n",
    "plt.show()"
   ]
  },
  {
   "cell_type": "code",
   "execution_count": 62,
   "metadata": {},
   "outputs": [
    {
     "name": "stdout",
     "output_type": "stream",
     "text": [
      "Processing cams images\n",
      "Keys not loaded: _IncompatibleKeys(missing_keys=['batch_norm.weight', 'batch_norm.bias', 'batch_norm.running_mean', 'batch_norm.running_var'], unexpected_keys=[])\n"
     ]
    },
    {
     "name": "stderr",
     "output_type": "stream",
     "text": [
      "100%|██████████| 39/39 [00:17<00:00,  2.25it/s]\n"
     ]
    }
   ],
   "source": [
    "print('Processing cams images')\n",
    "test_gen_camA = TestGenerator(more, partition='test', cam='camA', image_shape=(256,256))\n",
    "test_gen_camB = TestGenerator(more, partition='test', cam='camB', image_shape=(256,256))\n",
    "if device == 'cuda':\n",
    "    torch.cuda.empty_cache()\n",
    "    \n",
    "metric_learning_model_weights = 'weights/torch.quad_loss(0.9).center_loss(1e-2).120epochs.pt'\n",
    "\n",
    "model_metric = Resnet50MetricLearning(target_ident_num, inference=False).eval().to(device)\n",
    "incompatible_keys = model_metric.load_state_dict(torch.load(metric_learning_model_weights), strict=False, )\n",
    "print('Keys not loaded:', incompatible_keys)\n",
    "\n",
    "\n",
    "probe_features_center, ids_camA_center = process_generator(test_gen_camA, model_metric, batch_size=96, workers=1)\n",
    "\n",
    "# gallery_features, ids_camB = process_generator(test_gen_camB, model_metric, batch_size=96, workers=1)\n",
    "# print(f'Loaded {len(ids_camB)} samples for cam B')\n",
    "\n"
   ]
  },
  {
   "cell_type": "code",
   "execution_count": 63,
   "metadata": {},
   "outputs": [
    {
     "data": {
      "text/html": [
       "<div>\n",
       "<style scoped>\n",
       "    .dataframe tbody tr th:only-of-type {\n",
       "        vertical-align: middle;\n",
       "    }\n",
       "\n",
       "    .dataframe tbody tr th {\n",
       "        vertical-align: top;\n",
       "    }\n",
       "\n",
       "    .dataframe thead th {\n",
       "        text-align: right;\n",
       "    }\n",
       "</style>\n",
       "<table border=\"1\" class=\"dataframe\">\n",
       "  <thead>\n",
       "    <tr style=\"text-align: right;\">\n",
       "      <th></th>\n",
       "      <th>ids</th>\n",
       "      <th>features</th>\n",
       "    </tr>\n",
       "  </thead>\n",
       "  <tbody>\n",
       "    <tr>\n",
       "      <th>0</th>\n",
       "      <td>988</td>\n",
       "      <td>[0.0016839894, 0.020304952, 0.1073505, 0.00710...</td>\n",
       "    </tr>\n",
       "    <tr>\n",
       "      <th>1</th>\n",
       "      <td>2012</td>\n",
       "      <td>[0.00467705, 0.056443613, 0.060253948, 0.00183...</td>\n",
       "    </tr>\n",
       "    <tr>\n",
       "      <th>2</th>\n",
       "      <td>2037</td>\n",
       "      <td>[0.019111905, 0.06503816, 0.0075601134, 0.0017...</td>\n",
       "    </tr>\n",
       "    <tr>\n",
       "      <th>3</th>\n",
       "      <td>2290</td>\n",
       "      <td>[0.008463793, 0.10283183, 0.035037287, 0.0, 0....</td>\n",
       "    </tr>\n",
       "    <tr>\n",
       "      <th>4</th>\n",
       "      <td>2315</td>\n",
       "      <td>[0.017887259, 0.030856384, 0.024826672, 0.0341...</td>\n",
       "    </tr>\n",
       "    <tr>\n",
       "      <th>5</th>\n",
       "      <td>2369</td>\n",
       "      <td>[0.014987597, 0.08068278, 0.0055959816, 0.0205...</td>\n",
       "    </tr>\n",
       "    <tr>\n",
       "      <th>6</th>\n",
       "      <td>2594</td>\n",
       "      <td>[0.030093085, 0.043297313, 0.048966773, 0.0004...</td>\n",
       "    </tr>\n",
       "    <tr>\n",
       "      <th>7</th>\n",
       "      <td>3387</td>\n",
       "      <td>[0.006033237, 0.0012250365, 0.07561064, 0.0979...</td>\n",
       "    </tr>\n",
       "    <tr>\n",
       "      <th>8</th>\n",
       "      <td>3417</td>\n",
       "      <td>[0.00037860774, 0.0032330595, 0.003248179, 0.1...</td>\n",
       "    </tr>\n",
       "    <tr>\n",
       "      <th>9</th>\n",
       "      <td>3559</td>\n",
       "      <td>[0.00011738516, 0.010798717, 0.011917171, 0.15...</td>\n",
       "    </tr>\n",
       "  </tbody>\n",
       "</table>\n",
       "</div>"
      ],
      "text/plain": [
       "    ids                                           features\n",
       "0   988  [0.0016839894, 0.020304952, 0.1073505, 0.00710...\n",
       "1  2012  [0.00467705, 0.056443613, 0.060253948, 0.00183...\n",
       "2  2037  [0.019111905, 0.06503816, 0.0075601134, 0.0017...\n",
       "3  2290  [0.008463793, 0.10283183, 0.035037287, 0.0, 0....\n",
       "4  2315  [0.017887259, 0.030856384, 0.024826672, 0.0341...\n",
       "5  2369  [0.014987597, 0.08068278, 0.0055959816, 0.0205...\n",
       "6  2594  [0.030093085, 0.043297313, 0.048966773, 0.0004...\n",
       "7  3387  [0.006033237, 0.0012250365, 0.07561064, 0.0979...\n",
       "8  3417  [0.00037860774, 0.0032330595, 0.003248179, 0.1...\n",
       "9  3559  [0.00011738516, 0.010798717, 0.011917171, 0.15..."
      ]
     },
     "execution_count": 63,
     "metadata": {},
     "output_type": "execute_result"
    }
   ],
   "source": [
    "import pandas as pd\n",
    "import numpy as np\n",
    "\n",
    "values, counts = np.unique(ids_camA_center, return_counts=True)\n",
    "\n",
    "indexes = np.argsort(counts)[::-1][:10]\n",
    "selected_ids = values[indexes]\n",
    "selected_features = probe_features_center[np.isin(ids_camA_center, selected_ids)]\n",
    "selected_targets = ids_camA_center[np.isin(ids_camA_center, selected_ids)]\n",
    "\n",
    "df = pd.DataFrame()\n",
    "df.index = np.arange(len(selected_features))\n",
    "df.loc[:, 'features'] = [*selected_features]\n",
    "df.loc[:, 'ids'] = selected_targets\n",
    "\n",
    "\n",
    "gdf_center = df.groupby('ids').features.apply(np.mean).reset_index()\n",
    "gdf_center"
   ]
  },
  {
   "cell_type": "code",
   "execution_count": 64,
   "metadata": {},
   "outputs": [
    {
     "data": {
      "text/plain": [
       "0.4214274088541667"
      ]
     },
     "execution_count": 64,
     "metadata": {},
     "output_type": "execute_result"
    }
   ],
   "source": [
    "from sklearn.metrics.pairwise import cosine_similarity\n",
    "\n",
    "sims = cosine_similarity(gdf_center.features.tolist(), gdf_center.features.tolist())\n",
    "num_distances = (len(gdf_center)**2 - len(gdf_center) )/ 2\n",
    "np.tril(sims, k=-1).sum()/ num_distances"
   ]
  },
  {
   "cell_type": "code",
   "execution_count": 55,
   "metadata": {},
   "outputs": [
    {
     "name": "stderr",
     "output_type": "stream",
     "text": [
      "c:\\Users\\Augusto\\anaconda3\\envs\\new-more\\lib\\site-packages\\umap\\umap_.py:1943: UserWarning: n_jobs value -1 overridden to 1 by setting random_state. Use no seed for parallelism.\n",
      "  warn(f\"n_jobs value {self.n_jobs} overridden to 1 by setting random_state. Use no seed for parallelism.\")\n",
      "c:\\Users\\Augusto\\anaconda3\\envs\\new-more\\lib\\site-packages\\umap\\umap_.py:2433: UserWarning: n_neighbors is larger than the dataset size; truncating to X.shape[0] - 1\n",
      "  warn(\n"
     ]
    },
    {
     "data": {
      "image/png": "[encoded data removed]",
      "text/plain": [
       "<Figure size 1000x800 with 1 Axes>"
      ]
     },
     "metadata": {},
     "output_type": "display_data"
    }
   ],
   "source": [
    "import sklearn.datasets\n",
    "# import pandas as pd\n",
    "import numpy as np\n",
    "import umap\n",
    "\n",
    "reducer = umap.UMAP(random_state=42)\n",
    "\n",
    "reducer.fit(gdf.features.tolist())\n",
    "\n",
    "embedding = reducer.transform(gdf.features.tolist())\n",
    "# Verify that the result of calling transform is\n",
    "# idenitical to accessing the embedding_ attribute\n",
    "assert(np.all(embedding == reducer.embedding_))\n",
    "embedding.shape\n",
    "\n",
    "%matplotlib inline\n",
    "from matplotlib import pyplot as plt\n",
    "\n",
    "plt.figure(figsize=(10,8))\n",
    "plt.scatter(embedding[:, 0], embedding[:, 1], c=colors, s=50)\n",
    "# plt.gca().set_aspect('equal', 'datalim')\n",
    "# plt.colorbar(boundaries=np.arange(11)-0.5).set_ticks(np.arange(10))\n",
    "plt.title('UMAP projection of the Digits dataset', fontsize=12)\n",
    "plt.show()"
   ]
  },
  {
   "cell_type": "code",
   "execution_count": 2,
   "metadata": {},
   "outputs": [],
   "source": [
    "import numpy as np\n",
    "\n",
    "fa = np.random.rand(3400, 2048)\n",
    "fb = np.random.rand(3600, 2048)\n"
   ]
  },
  {
   "cell_type": "code",
   "execution_count": 6,
   "metadata": {},
   "outputs": [],
   "source": [
    "from sklearn.metrics.pairwise import cosine_similarity\n",
    "from scipy.spatial.distance import cdist\n",
    "a = cosine_similarity(fa, fb)"
   ]
  },
  {
   "cell_type": "code",
   "execution_count": 8,
   "metadata": {},
   "outputs": [],
   "source": [
    "b = cdist(fa, fb, metric='cosine')"
   ]
  },
  {
   "cell_type": "code",
   "execution_count": 9,
   "metadata": {},
   "outputs": [
    {
     "data": {
      "text/plain": [
       "array([0.75471983, 0.74573316, 0.74843596, ..., 0.73848099, 0.75334301,\n",
       "       0.75675894])"
      ]
     },
     "execution_count": 9,
     "metadata": {},
     "output_type": "execute_result"
    }
   ],
   "source": [
    "a[0]"
   ]
  },
  {
   "cell_type": "code",
   "execution_count": 12,
   "metadata": {},
   "outputs": [
    {
     "data": {
      "text/plain": [
       "array([[0.75471983, 0.74573316, 0.74843596, ..., 0.73848099, 0.75334301,\n",
       "        0.75675894],\n",
       "       [0.75046292, 0.75583273, 0.75229193, ..., 0.74545208, 0.75148172,\n",
       "        0.75777674],\n",
       "       [0.75238521, 0.75691429, 0.75319257, ..., 0.74498736, 0.74434734,\n",
       "        0.75388617],\n",
       "       ...,\n",
       "       [0.74429203, 0.75456996, 0.74335283, ..., 0.73816507, 0.74314268,\n",
       "        0.75909511],\n",
       "       [0.75185471, 0.76186809, 0.75502739, ..., 0.73254915, 0.75076105,\n",
       "        0.75004453],\n",
       "       [0.7565397 , 0.74735025, 0.75038808, ..., 0.73427336, 0.7517122 ,\n",
       "        0.75338529]])"
      ]
     },
     "execution_count": 12,
     "metadata": {},
     "output_type": "execute_result"
    }
   ],
   "source": [
    "a"
   ]
  }
 ],
 "metadata": {
  "kernelspec": {
   "display_name": "new-more",
   "language": "python",
   "name": "python3"
  },
  "language_info": {
   "codemirror_mode": {
    "name": "ipython",
    "version": 3
   },
   "file_extension": ".py",
   "mimetype": "text/x-python",
   "name": "python",
   "nbconvert_exporter": "python",
   "pygments_lexer": "ipython3",
   "version": "3.9.16"
  }
 },
 "nbformat": 4,
 "nbformat_minor": 2
}
